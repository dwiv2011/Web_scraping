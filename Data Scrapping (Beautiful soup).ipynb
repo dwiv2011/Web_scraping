{
 "cells": [
  {
   "cell_type": "code",
   "execution_count": 1,
   "metadata": {},
   "outputs": [],
   "source": [
    "## Importing librarary\n",
    "\n",
    "import os\n",
    "import csv\n",
    "import requests\n",
    "import bs4\n",
    "import pandas as pd\n"
   ]
  },
  {
   "cell_type": "code",
   "execution_count": 37,
   "metadata": {},
   "outputs": [],
   "source": [
    "\n",
    "# downloading the webpage and parsing\n",
    "url=requests.get(\"https://www.cricbuzz.com/cricket-stats/icc-rankings/men/batting\")\n",
    "soup = bs4.BeautifulSoup(url.content, 'lxml') \n"
   ]
  },
  {
   "cell_type": "code",
   "execution_count": 58,
   "metadata": {},
   "outputs": [],
   "source": [
    "# Extracting the required data \n",
    "table1 = soup.find_all(class_=\"cb-col cb-col-16 cb-rank-tbl cb-font-16\")\n",
    "table2 = soup.find_all(class_=\"text-hvr-underline text-bold cb-font-16\")\n",
    "table3= soup.find_all(class_=\"cb-font-12 text-gray\")\n",
    "rank=[]\n",
    "Name=[]\n",
    "Country=[]\n",
    "link=[]\n",
    "for row in range(100):\n",
    "    rank.append(table1[row].get_text())\n",
    "    Name.append(table2[row].get_text())\n",
    "    Country.append(table3[row].get_text())\n",
    "    link.append(table2[row]['href'])\n",
    "    \n"
   ]
  },
  {
   "cell_type": "code",
   "execution_count": 99,
   "metadata": {},
   "outputs": [
    {
     "data": {
      "text/html": [
       "<div>\n",
       "<style scoped>\n",
       "    .dataframe tbody tr th:only-of-type {\n",
       "        vertical-align: middle;\n",
       "    }\n",
       "\n",
       "    .dataframe tbody tr th {\n",
       "        vertical-align: top;\n",
       "    }\n",
       "\n",
       "    .dataframe thead th {\n",
       "        text-align: right;\n",
       "    }\n",
       "</style>\n",
       "<table border=\"1\" class=\"dataframe\">\n",
       "  <thead>\n",
       "    <tr style=\"text-align: right;\">\n",
       "      <th></th>\n",
       "      <th>Rank</th>\n",
       "      <th>Name</th>\n",
       "      <th>Country</th>\n",
       "      <th>Link</th>\n",
       "    </tr>\n",
       "  </thead>\n",
       "  <tbody>\n",
       "    <tr>\n",
       "      <td>0</td>\n",
       "      <td>1</td>\n",
       "      <td>Kane Williamson</td>\n",
       "      <td>NEW ZEALAND</td>\n",
       "      <td>/profiles/6326/kane-williamson</td>\n",
       "    </tr>\n",
       "    <tr>\n",
       "      <td>1</td>\n",
       "      <td>2</td>\n",
       "      <td>Steven Smith</td>\n",
       "      <td>AUSTRALIA</td>\n",
       "      <td>/profiles/2250/steven-smith</td>\n",
       "    </tr>\n",
       "    <tr>\n",
       "      <td>2</td>\n",
       "      <td>3</td>\n",
       "      <td>Marnus Labuschagne</td>\n",
       "      <td>AUSTRALIA</td>\n",
       "      <td>/profiles/10182/marnus-labuschagne</td>\n",
       "    </tr>\n",
       "    <tr>\n",
       "      <td>3</td>\n",
       "      <td>4</td>\n",
       "      <td>Virat Kohli</td>\n",
       "      <td>INDIA</td>\n",
       "      <td>/profiles/1413/virat-kohli</td>\n",
       "    </tr>\n",
       "    <tr>\n",
       "      <td>4</td>\n",
       "      <td>5</td>\n",
       "      <td>Joe Root</td>\n",
       "      <td>ENGLAND</td>\n",
       "      <td>/profiles/8019/joe-root</td>\n",
       "    </tr>\n",
       "  </tbody>\n",
       "</table>\n",
       "</div>"
      ],
      "text/plain": [
       "  Rank                Name      Country                                Link\n",
       "0    1     Kane Williamson  NEW ZEALAND      /profiles/6326/kane-williamson\n",
       "1    2        Steven Smith    AUSTRALIA         /profiles/2250/steven-smith\n",
       "2    3  Marnus Labuschagne    AUSTRALIA  /profiles/10182/marnus-labuschagne\n",
       "3    4         Virat Kohli        INDIA          /profiles/1413/virat-kohli\n",
       "4    5            Joe Root      ENGLAND             /profiles/8019/joe-root"
      ]
     },
     "execution_count": 99,
     "metadata": {},
     "output_type": "execute_result"
    }
   ],
   "source": [
    "# Creating a Data Frame\n",
    "Data_frame=pd.DataFrame(zip(rank,Name,Country,link),columns=[\"Rank\",\"Name\",\"Country\",\"Link\"])\n",
    "Data_frame.head(5)\n"
   ]
  },
  {
   "cell_type": "code",
   "execution_count": 102,
   "metadata": {},
   "outputs": [
    {
     "data": {
      "text/html": [
       "<div>\n",
       "<style scoped>\n",
       "    .dataframe tbody tr th:only-of-type {\n",
       "        vertical-align: middle;\n",
       "    }\n",
       "\n",
       "    .dataframe tbody tr th {\n",
       "        vertical-align: top;\n",
       "    }\n",
       "\n",
       "    .dataframe thead th {\n",
       "        text-align: right;\n",
       "    }\n",
       "</style>\n",
       "<table border=\"1\" class=\"dataframe\">\n",
       "  <thead>\n",
       "    <tr style=\"text-align: right;\">\n",
       "      <th></th>\n",
       "      <th>Rank</th>\n",
       "    </tr>\n",
       "    <tr>\n",
       "      <th>Country</th>\n",
       "      <th></th>\n",
       "    </tr>\n",
       "  </thead>\n",
       "  <tbody>\n",
       "    <tr>\n",
       "      <td>AFGHANISTAN</td>\n",
       "      <td>3</td>\n",
       "    </tr>\n",
       "    <tr>\n",
       "      <td>AUSTRALIA</td>\n",
       "      <td>11</td>\n",
       "    </tr>\n",
       "    <tr>\n",
       "      <td>BANGLADESH</td>\n",
       "      <td>7</td>\n",
       "    </tr>\n",
       "    <tr>\n",
       "      <td>ENGLAND</td>\n",
       "      <td>11</td>\n",
       "    </tr>\n",
       "    <tr>\n",
       "      <td>INDIA</td>\n",
       "      <td>15</td>\n",
       "    </tr>\n",
       "  </tbody>\n",
       "</table>\n",
       "</div>"
      ],
      "text/plain": [
       "             Rank\n",
       "Country          \n",
       "AFGHANISTAN     3\n",
       "AUSTRALIA      11\n",
       "BANGLADESH      7\n",
       "ENGLAND        11\n",
       "INDIA          15"
      ]
     },
     "execution_count": 102,
     "metadata": {},
     "output_type": "execute_result"
    }
   ],
   "source": [
    "# Summary\n",
    "Players=pd.DataFrame(Data_frame.groupby(\"Country\").count().Rank)\n",
    "Players.head(5)"
   ]
  },
  {
   "cell_type": "code",
   "execution_count": null,
   "metadata": {},
   "outputs": [],
   "source": []
  }
 ],
 "metadata": {
  "kernelspec": {
   "display_name": "Python 3",
   "language": "python",
   "name": "python3"
  },
  "language_info": {
   "codemirror_mode": {
    "name": "ipython",
    "version": 3
   },
   "file_extension": ".py",
   "mimetype": "text/x-python",
   "name": "python",
   "nbconvert_exporter": "python",
   "pygments_lexer": "ipython3",
   "version": "3.7.4"
  }
 },
 "nbformat": 4,
 "nbformat_minor": 2
}
